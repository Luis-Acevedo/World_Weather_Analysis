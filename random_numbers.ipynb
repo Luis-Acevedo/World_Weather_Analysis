{
 "cells": [
  {
   "cell_type": "code",
   "execution_count": 1,
   "id": "dying-property",
   "metadata": {},
   "outputs": [],
   "source": [
    "import random"
   ]
  },
  {
   "cell_type": "code",
   "execution_count": 2,
   "id": "narrow-motor",
   "metadata": {},
   "outputs": [
    {
     "data": {
      "text/plain": [
       "41"
      ]
     },
     "execution_count": 2,
     "metadata": {},
     "output_type": "execute_result"
    }
   ],
   "source": [
    "random.randint(-90,90)"
   ]
  },
  {
   "cell_type": "code",
   "execution_count": 3,
   "id": "thick-district",
   "metadata": {},
   "outputs": [
    {
     "data": {
      "text/plain": [
       "0.07945363632835478"
      ]
     },
     "execution_count": 3,
     "metadata": {},
     "output_type": "execute_result"
    }
   ],
   "source": [
    "random.random()"
   ]
  },
  {
   "cell_type": "code",
   "execution_count": 4,
   "id": "fixed-sharing",
   "metadata": {},
   "outputs": [
    {
     "data": {
      "text/plain": [
       "27.06435023095909"
      ]
     },
     "execution_count": 4,
     "metadata": {},
     "output_type": "execute_result"
    }
   ],
   "source": [
    "random_number = random.randint(-90, 89) + random.random()\n",
    "\n",
    "random_number"
   ]
  },
  {
   "cell_type": "code",
   "execution_count": 5,
   "id": "herbal-selling",
   "metadata": {},
   "outputs": [
    {
     "data": {
      "text/plain": [
       "[-30.40329343165331,\n",
       " -78.8311446320026,\n",
       " 9.453556028950274,\n",
       " 7.35475662173342,\n",
       " -8.025512285426448,\n",
       " 42.09475002625913,\n",
       " -18.603402311685166,\n",
       " -42.910308933007165,\n",
       " -71.75792191659137,\n",
       " -76.14312006967864]"
      ]
     },
     "execution_count": 5,
     "metadata": {},
     "output_type": "execute_result"
    }
   ],
   "source": [
    "x = 1\n",
    "latitudes = []\n",
    "while x < 11:\n",
    "    random_lat = random.randint(-90, 89) + random.random()\n",
    "    latitudes.append(random_lat)\n",
    "    x += 1\n",
    "    \n",
    "latitudes"
   ]
  },
  {
   "cell_type": "code",
   "execution_count": 6,
   "id": "hollow-management",
   "metadata": {},
   "outputs": [
    {
     "data": {
      "text/plain": [
       "-88"
      ]
     },
     "execution_count": 6,
     "metadata": {},
     "output_type": "execute_result"
    }
   ],
   "source": [
    "random.randrange(-90, 90, step=1)"
   ]
  },
  {
   "cell_type": "code",
   "execution_count": 7,
   "id": "eligible-apparatus",
   "metadata": {},
   "outputs": [
    {
     "data": {
      "text/plain": [
       "-75"
      ]
     },
     "execution_count": 7,
     "metadata": {},
     "output_type": "execute_result"
    }
   ],
   "source": [
    "random.randrange(-90, 90, step=3)"
   ]
  },
  {
   "cell_type": "code",
   "execution_count": 8,
   "id": "lesser-blade",
   "metadata": {},
   "outputs": [
    {
     "data": {
      "text/plain": [
       "24.06888507117951"
      ]
     },
     "execution_count": 8,
     "metadata": {},
     "output_type": "execute_result"
    }
   ],
   "source": [
    "# This could be useful for what we are doing\n",
    "random.uniform(-90, 90)"
   ]
  },
  {
   "cell_type": "code",
   "execution_count": 9,
   "id": "extensive-second",
   "metadata": {},
   "outputs": [],
   "source": [
    "# Import the NumPy module.\n",
    "import numpy as np"
   ]
  },
  {
   "cell_type": "code",
   "execution_count": 10,
   "id": "inside-parent",
   "metadata": {},
   "outputs": [
    {
     "data": {
      "text/plain": [
       "38.47204866039172"
      ]
     },
     "execution_count": 10,
     "metadata": {},
     "output_type": "execute_result"
    }
   ],
   "source": [
    "# The zeros after are optional. Another way of writing is np.random.uniform(low=-90, high=90)\n",
    "\n",
    "np.random.uniform(-90, 90.000)"
   ]
  },
  {
   "cell_type": "code",
   "execution_count": 11,
   "id": "thermal-chinese",
   "metadata": {},
   "outputs": [
    {
     "data": {
      "text/plain": [
       "array([ 43.05173242, -75.47661921, -45.77654262, -40.3914982 ,\n",
       "        30.72407308, -32.70689801, -79.40442901,  43.78657302,\n",
       "       -46.07972119,  75.53716522,  24.18791641,  48.73162658,\n",
       "        89.78380965, -19.48458345, -31.93016385,  87.50145681,\n",
       "       -55.77901553, -49.16824216, -19.30413788, -55.32287616,\n",
       "        59.8072179 , -77.52442001,  63.06756705,  46.83159638,\n",
       "        35.89265566, -87.87622182,   3.09120591, -71.66654064,\n",
       "       -80.59258847,  -0.885284  , -74.51261342, -39.12603102,\n",
       "       -81.04759758,  -0.20988856,  38.35154914, -27.03595874,\n",
       "       -85.40037254,  26.65785544, -74.58863707,  16.53443732,\n",
       "       -58.60216546, -14.57772395, -58.25008496, -64.86698528,\n",
       "        11.10408652,  41.28306616, -87.6695273 ,   7.55577978,\n",
       "        13.86611284,  27.13583974])"
      ]
     },
     "execution_count": 11,
     "metadata": {},
     "output_type": "execute_result"
    }
   ],
   "source": [
    "np.random.uniform(-90.000, 90.000, size=50)"
   ]
  },
  {
   "cell_type": "code",
   "execution_count": 12,
   "id": "ethical-centre",
   "metadata": {},
   "outputs": [],
   "source": [
    "# Import timeit. Used to report how long it takes an action to run\n",
    "\n",
    "import timeit"
   ]
  },
  {
   "cell_type": "code",
   "execution_count": 13,
   "id": "complicated-convertible",
   "metadata": {},
   "outputs": [
    {
     "name": "stdout",
     "output_type": "stream",
     "text": [
      "18.5 µs ± 2.26 µs per loop (mean ± std. dev. of 7 runs, 100000 loops each)\n"
     ]
    }
   ],
   "source": [
    "%timeit np.random.uniform(-90.000, 90.000, size=1500)"
   ]
  },
  {
   "cell_type": "code",
   "execution_count": 14,
   "id": "shared-nepal",
   "metadata": {},
   "outputs": [
    {
     "name": "stdout",
     "output_type": "stream",
     "text": [
      "2.06 ms ± 33.2 µs per loop (mean ± std. dev. of 7 runs, 100 loops each)\n"
     ]
    }
   ],
   "source": [
    "def latitudes(size):\n",
    "    latitudes = []\n",
    "    x = 0\n",
    "    while x < (size):\n",
    "        random_lat = random.randint(-90, 90) + random.random()\n",
    "        latitudes.append(random_lat)\n",
    "        x += 1\n",
    "    return latitudes\n",
    "# Call the function with 1500.\n",
    "%timeit latitudes(1500)"
   ]
  },
  {
   "cell_type": "code",
   "execution_count": null,
   "id": "yellow-antique",
   "metadata": {},
   "outputs": [],
   "source": []
  }
 ],
 "metadata": {
  "kernelspec": {
   "display_name": "PythonData37",
   "language": "python",
   "name": "pythondata37"
  },
  "language_info": {
   "codemirror_mode": {
    "name": "ipython",
    "version": 3
   },
   "file_extension": ".py",
   "mimetype": "text/x-python",
   "name": "python",
   "nbconvert_exporter": "python",
   "pygments_lexer": "ipython3",
   "version": "3.7.9"
  }
 },
 "nbformat": 4,
 "nbformat_minor": 5
}
