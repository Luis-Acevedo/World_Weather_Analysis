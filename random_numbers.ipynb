{
 "cells": [
  {
   "cell_type": "code",
   "execution_count": 1,
   "id": "dying-property",
   "metadata": {},
   "outputs": [],
   "source": [
    "import random"
   ]
  },
  {
   "cell_type": "code",
   "execution_count": 2,
   "id": "narrow-motor",
   "metadata": {},
   "outputs": [
    {
     "data": {
      "text/plain": [
       "-19"
      ]
     },
     "execution_count": 2,
     "metadata": {},
     "output_type": "execute_result"
    }
   ],
   "source": [
    "random.randint(-90,90)"
   ]
  },
  {
   "cell_type": "code",
   "execution_count": 3,
   "id": "thick-district",
   "metadata": {},
   "outputs": [
    {
     "data": {
      "text/plain": [
       "0.28169137373307196"
      ]
     },
     "execution_count": 3,
     "metadata": {},
     "output_type": "execute_result"
    }
   ],
   "source": [
    "random.random()"
   ]
  },
  {
   "cell_type": "code",
   "execution_count": 4,
   "id": "fixed-sharing",
   "metadata": {},
   "outputs": [
    {
     "data": {
      "text/plain": [
       "70.8923402140443"
      ]
     },
     "execution_count": 4,
     "metadata": {},
     "output_type": "execute_result"
    }
   ],
   "source": [
    "random_number = random.randint(-90, 89) + random.random()\n",
    "\n",
    "random_number"
   ]
  },
  {
   "cell_type": "code",
   "execution_count": 5,
   "id": "herbal-selling",
   "metadata": {},
   "outputs": [
    {
     "data": {
      "text/plain": [
       "[74.35070297123968,\n",
       " 89.8279228479508,\n",
       " -79.66772521985548,\n",
       " -13.51952205608611,\n",
       " 30.277627807592115,\n",
       " 11.163697112276317,\n",
       " 34.10507608498367,\n",
       " 81.15201663972881,\n",
       " 65.59812250994668,\n",
       " -80.94313748881483]"
      ]
     },
     "execution_count": 5,
     "metadata": {},
     "output_type": "execute_result"
    }
   ],
   "source": [
    "x = 1\n",
    "latitudes = []\n",
    "while x < 11:\n",
    "    random_lat = random.randint(-90, 89) + random.random()\n",
    "    latitudes.append(random_lat)\n",
    "    x += 1\n",
    "    \n",
    "latitudes"
   ]
  },
  {
   "cell_type": "code",
   "execution_count": 6,
   "id": "hollow-management",
   "metadata": {},
   "outputs": [
    {
     "data": {
      "text/plain": [
       "-14"
      ]
     },
     "execution_count": 6,
     "metadata": {},
     "output_type": "execute_result"
    }
   ],
   "source": [
    "random.randrange(-90, 90, step=1)"
   ]
  },
  {
   "cell_type": "code",
   "execution_count": 7,
   "id": "eligible-apparatus",
   "metadata": {},
   "outputs": [
    {
     "data": {
      "text/plain": [
       "-72"
      ]
     },
     "execution_count": 7,
     "metadata": {},
     "output_type": "execute_result"
    }
   ],
   "source": [
    "random.randrange(-90, 90, step=3)"
   ]
  },
  {
   "cell_type": "code",
   "execution_count": 8,
   "id": "lesser-blade",
   "metadata": {},
   "outputs": [
    {
     "data": {
      "text/plain": [
       "86.69068357599977"
      ]
     },
     "execution_count": 8,
     "metadata": {},
     "output_type": "execute_result"
    }
   ],
   "source": [
    "# This could be useful for what we are doing\n",
    "random.uniform(-90, 90)"
   ]
  },
  {
   "cell_type": "code",
   "execution_count": 9,
   "id": "extensive-second",
   "metadata": {},
   "outputs": [],
   "source": [
    "# Import the NumPy module.\n",
    "import numpy as np"
   ]
  },
  {
   "cell_type": "code",
   "execution_count": 10,
   "id": "inside-parent",
   "metadata": {},
   "outputs": [
    {
     "data": {
      "text/plain": [
       "50.35790793930914"
      ]
     },
     "execution_count": 10,
     "metadata": {},
     "output_type": "execute_result"
    }
   ],
   "source": [
    "# The zeros after are optional. Another way of writing is np.random.uniform(low=-90, high=90)\n",
    "\n",
    "np.random.uniform(-90, 90.000)"
   ]
  },
  {
   "cell_type": "code",
   "execution_count": 11,
   "id": "thermal-chinese",
   "metadata": {},
   "outputs": [
    {
     "data": {
      "text/plain": [
       "array([-17.49156635,  29.74233741,  26.68856059, -19.87680432,\n",
       "       -66.43310515, -60.51976062,  17.8793099 ,  80.59529732,\n",
       "        73.53180639, -44.81613495, -78.11572531,   4.58664242,\n",
       "        68.69032965,  37.80215878,  78.56346629,  53.94469369,\n",
       "       -59.69148424, -54.92759922,  43.64993813,  88.1965354 ,\n",
       "        27.47728614,  36.81746006,  57.90216754, -89.891351  ,\n",
       "        10.70902072,  38.82232733, -42.25841102, -56.49012284,\n",
       "        -7.30273104,  61.13391221,  -7.50531025,  28.14231244,\n",
       "       -77.3017453 ,  61.66390118, -50.4916713 , -86.51276692,\n",
       "        26.71248466,  52.82417284,  66.34653794, -38.89427776,\n",
       "        35.62548546, -10.84364137, -31.05049613,  63.24757061,\n",
       "        -6.69160675,  65.2974406 ,   1.49140451, -34.29882904,\n",
       "        65.48701255,  -2.18677135])"
      ]
     },
     "execution_count": 11,
     "metadata": {},
     "output_type": "execute_result"
    }
   ],
   "source": [
    "np.random.uniform(-90.000, 90.000, size=50)"
   ]
  },
  {
   "cell_type": "code",
   "execution_count": 12,
   "id": "ethical-centre",
   "metadata": {},
   "outputs": [],
   "source": [
    "# Import timeit. Used to report how long it takes an action to run\n",
    "\n",
    "import timeit"
   ]
  },
  {
   "cell_type": "code",
   "execution_count": 13,
   "id": "complicated-convertible",
   "metadata": {},
   "outputs": [
    {
     "name": "stdout",
     "output_type": "stream",
     "text": [
      "15.7 µs ± 575 ns per loop (mean ± std. dev. of 7 runs, 100000 loops each)\n"
     ]
    }
   ],
   "source": [
    "%timeit np.random.uniform(-90.000, 90.000, size=1500)"
   ]
  },
  {
   "cell_type": "code",
   "execution_count": 14,
   "id": "shared-nepal",
   "metadata": {},
   "outputs": [
    {
     "name": "stdout",
     "output_type": "stream",
     "text": [
      "1.99 ms ± 143 µs per loop (mean ± std. dev. of 7 runs, 100 loops each)\n"
     ]
    }
   ],
   "source": [
    "def latitudes(size):\n",
    "    latitudes = []\n",
    "    x = 0\n",
    "    while x < (size):\n",
    "        random_lat = random.randint(-90, 90) + random.random()\n",
    "        latitudes.append(random_lat)\n",
    "        x += 1\n",
    "    return latitudes\n",
    "# Call the function with 1500.\n",
    "%timeit latitudes(1500)"
   ]
  },
  {
   "cell_type": "code",
   "execution_count": null,
   "id": "yellow-antique",
   "metadata": {},
   "outputs": [],
   "source": []
  }
 ],
 "metadata": {
  "kernelspec": {
   "display_name": "PythonData37",
   "language": "python",
   "name": "pythondata37"
  },
  "language_info": {
   "codemirror_mode": {
    "name": "ipython",
    "version": 3
   },
   "file_extension": ".py",
   "mimetype": "text/x-python",
   "name": "python",
   "nbconvert_exporter": "python",
   "pygments_lexer": "ipython3",
   "version": "3.7.9"
  }
 },
 "nbformat": 4,
 "nbformat_minor": 5
}
